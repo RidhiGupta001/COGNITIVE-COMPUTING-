{
 "cells": [
  {
   "cell_type": "code",
   "execution_count": 2,
   "metadata": {},
   "outputs": [
    {
     "name": "stdout",
     "output_type": "stream",
     "text": [
      "[ 4  6  8 10 12 14]\n",
      "[ 6 12 18 24 30 36]\n"
     ]
    }
   ],
   "source": [
    "##Task1\n",
    "import numpy as np\n",
    "array = np.array([2,4,6,8,10,12])\n",
    "\n",
    "array_2 = array + 2\n",
    "array_3 = array * 3\n",
    "print(array_2)\n",
    "print(array_3)"
   ]
  },
  {
   "cell_type": "code",
   "execution_count": 3,
   "metadata": {},
   "outputs": [
    {
     "name": "stdout",
     "output_type": "stream",
     "text": [
      "[5 4 6 3 2 1]\n"
     ]
    }
   ],
   "source": [
    "##Task2 \n",
    "arr = np.array([1,2,3,6,4,5])\n",
    "arr_rev = np.flip(arr)\n",
    "print(arr_rev)"
   ]
  },
  {
   "cell_type": "code",
   "execution_count": 4,
   "metadata": {},
   "outputs": [
    {
     "name": "stdout",
     "output_type": "stream",
     "text": [
      "4\n"
     ]
    }
   ],
   "source": [
    "arr = np.array([1, 2, 2, 3, 3, 3, 4, 4, 4, 4])\n",
    "counts = np.bincount(arr)\n",
    "most_frequent_element = np.argmax(counts)\n",
    "print(most_frequent_element)"
   ]
  },
  {
   "cell_type": "code",
   "execution_count": 7,
   "metadata": {},
   "outputs": [
    {
     "name": "stdout",
     "output_type": "stream",
     "text": [
      "20\n",
      "70\n"
     ]
    }
   ],
   "source": [
    "#Task3\n",
    "arr=np.array([[10, 20, 30], \n",
    "             [40, 50, 60], \n",
    "             [70, 80, 90]])\n",
    "print(arr[0][1])\n",
    "print(arr[2][0])"
   ]
  },
  {
   "cell_type": "code",
   "execution_count": 8,
   "metadata": {},
   "outputs": [
    {
     "name": "stdout",
     "output_type": "stream",
     "text": [
      "Array: [ 10.    13.75  17.5   21.25  25.    28.75  32.5   36.25  40.    43.75\n",
      "  47.5   51.25  55.    58.75  62.5   66.25  70.    73.75  77.5   81.25\n",
      "  85.    88.75  92.5   96.25 100.  ]\n",
      "Dimensions: 1\n",
      "Shape: (25,)\n",
      "Total elements: 25\n",
      "Data type of each element: float64\n",
      "Total bytes consumed: 200\n",
      "Transposed Array using reshape:\n",
      " [[ 10.  ]\n",
      " [ 13.75]\n",
      " [ 17.5 ]\n",
      " [ 21.25]\n",
      " [ 25.  ]\n",
      " [ 28.75]\n",
      " [ 32.5 ]\n",
      " [ 36.25]\n",
      " [ 40.  ]\n",
      " [ 43.75]\n",
      " [ 47.5 ]\n",
      " [ 51.25]\n",
      " [ 55.  ]\n",
      " [ 58.75]\n",
      " [ 62.5 ]\n",
      " [ 66.25]\n",
      " [ 70.  ]\n",
      " [ 73.75]\n",
      " [ 77.5 ]\n",
      " [ 81.25]\n",
      " [ 85.  ]\n",
      " [ 88.75]\n",
      " [ 92.5 ]\n",
      " [ 96.25]\n",
      " [100.  ]]\n",
      "Transpose using .T:\n",
      " [ 10.    13.75  17.5   21.25  25.    28.75  32.5   36.25  40.    43.75\n",
      "  47.5   51.25  55.    58.75  62.5   66.25  70.    73.75  77.5   81.25\n",
      "  85.    88.75  92.5   96.25 100.  ]\n",
      "Can we use T attribute?  False\n"
     ]
    }
   ],
   "source": [
    "#Task4\n",
    "\n",
    "\n",
    "# Creating a 1-D NumPy array named 'Ridhi' with 25 evenly spaced numbers from 10 to 100\n",
    "Ridhi = np.linspace(10, 100, 25)\n",
    "\n",
    "# Printing required properties\n",
    "print(\"Array:\", Ridhi)\n",
    "print(\"Dimensions:\", Ridhi.ndim) \n",
    "print(\"Shape:\", Ridhi.shape) \n",
    "print(\"Total elements:\", Ridhi.size) \n",
    "print(\"Data type of each element:\", Ridhi.dtype)\n",
    "print(\"Total bytes consumed:\", Ridhi.nbytes)  \n",
    "\n",
    "Ridhi_transposed = Ridhi.reshape(25, 1)\n",
    "print(\"Transposed Array using reshape:\\n\", Ridhi_transposed)\n",
    "\n",
    "\n",
    "print(\"Transpose using .T:\\n\", Ridhi.T)\n",
    "\n",
    "\n",
    "print(\"Can we use T attribute? \", Ridhi.T.shape != Ridhi.shape)  # False, because T does nothing in 1D\n"
   ]
  }
 ],
 "metadata": {
  "kernelspec": {
   "display_name": "Python 3",
   "language": "python",
   "name": "python3"
  },
  "language_info": {
   "codemirror_mode": {
    "name": "ipython",
    "version": 3
   },
   "file_extension": ".py",
   "mimetype": "text/x-python",
   "name": "python",
   "nbconvert_exporter": "python",
   "pygments_lexer": "ipython3",
   "version": "3.11.9"
  }
 },
 "nbformat": 4,
 "nbformat_minor": 2
}
