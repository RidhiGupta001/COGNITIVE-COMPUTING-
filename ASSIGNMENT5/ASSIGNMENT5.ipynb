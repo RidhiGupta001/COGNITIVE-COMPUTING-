{
 "cells": [
  {
   "cell_type": "code",
   "execution_count": 1,
   "metadata": {},
   "outputs": [],
   "source": [
    "import numpy as np"
   ]
  },
  {
   "cell_type": "code",
   "execution_count": 4,
   "metadata": {},
   "outputs": [
    {
     "name": "stdout",
     "output_type": "stream",
     "text": [
      "Sum of all elements 45\n",
      "Sum of elements row wise [[45]]\n",
      "Sum of elements column wise [[ 4  1  9 12  3  1  4  5  6]]\n"
     ]
    }
   ],
   "source": [
    "#Task1\n",
    "gfg = np.matrix('[4, 1, 9], [12, 3, 1], [4, 5,6]')\n",
    "print('Sum of all elements',gfg.sum())\n",
    "print('Sum of elements row wise',np.sum(gfg,axis=1))\n",
    "print('Sum of elements column wise',np.sum(gfg,axis=0))"
   ]
  },
  {
   "cell_type": "code",
   "execution_count": 5,
   "metadata": {},
   "outputs": [
    {
     "name": "stdout",
     "output_type": "stream",
     "text": [
      "Sorted array : [ 10  16  16  52  54  62 453]\n",
      "Indices of sorted array : [0 3 4 1 5 2 6]\n",
      "4 smallest elements [10 16 16 52]\n",
      "5 smallest elements [ 16  52  54  62 453]\n"
     ]
    }
   ],
   "source": [
    "#Task2 \n",
    "array = np.array([10, 52, 62, 16, 16, 54, 453])\n",
    "sort_array=np.sort(array)\n",
    "print('Sorted array :',sort_array)\n",
    "print('Indices of sorted array :',np.argsort(array))\n",
    "print('4 smallest elements',sort_array[:4])\n",
    "print('5 smallest elements',sort_array[-5:])"
   ]
  },
  {
   "cell_type": "code",
   "execution_count": 6,
   "metadata": {},
   "outputs": [
    {
     "name": "stdout",
     "output_type": "stream",
     "text": [
      "Integer elements : [1. 2. 3. 2.]\n",
      "Float elements : [1.2 2.2]\n"
     ]
    }
   ],
   "source": [
    "#Task3\n",
    "array = np.array([1.0, 1.2, 2.2, 2.0, 3.0, 2.0])\n",
    "int_elements = array[array == np.floor(array)]\n",
    "print('Integer elements :',int_elements)\n",
    "float_elements = array[array != np.floor(array)]\n",
    "print('Float elements :',float_elements)"
   ]
  },
  {
   "cell_type": "code",
   "execution_count": 7,
   "metadata": {},
   "outputs": [
    {
     "name": "stdout",
     "output_type": "stream",
     "text": [
      "[153 203 253 303 353]\n"
     ]
    }
   ],
   "source": [
    "#Task4\n",
    "#Name= Ridhi Gupta\n",
    "X= ord('R')+ ord('G')\n",
    "sales= np.array([X, X+50, X+100, X+150, X+200])\n",
    "print(sales)"
   ]
  },
  {
   "cell_type": "code",
   "execution_count": 8,
   "metadata": {},
   "outputs": [
    {
     "name": "stdout",
     "output_type": "stream",
     "text": [
      "[165.24 219.24 273.24 327.24 381.24]\n"
     ]
    }
   ],
   "source": [
    "#Task5\n",
    "tax_rate= ((X % 5)+5)/100\n",
    "tax_sales= (tax_rate+1)*sales\n",
    "print(tax_sales)"
   ]
  },
  {
   "cell_type": "code",
   "execution_count": 9,
   "metadata": {},
   "outputs": [
    {
     "name": "stdout",
     "output_type": "stream",
     "text": [
      "[145.35 192.85 227.7  272.7  317.7 ]\n"
     ]
    }
   ],
   "source": [
    "#Task6\n",
    "discount_sales= np.where(sales<X+100, sales-sales*0.05, sales-sales*0.10)\n",
    "print(discount_sales)"
   ]
  },
  {
   "cell_type": "code",
   "execution_count": 10,
   "metadata": {},
   "outputs": [
    {
     "name": "stdout",
     "output_type": "stream",
     "text": [
      "Broadcasted sales array : [[153 203 253 303 353]\n",
      " [153 203 253 303 353]\n",
      " [153 203 253 303 353]]\n",
      "\n",
      "\n",
      "Increased sales :\n",
      " [[153.     203.     253.     303.     353.    ]\n",
      " [156.06   207.06   258.06   309.06   360.06  ]\n",
      " [159.1812 211.2012 263.2212 315.2412 367.2612]]\n"
     ]
    }
   ],
   "source": [
    "#Task7\n",
    "week_sales= np.tile(sales,(3,1))\n",
    "print('Broadcasted sales array :',week_sales)\n",
    "weeks=np.arange(3)           #to separate rows\n",
    "print('\\n')\n",
    "inc_sales=  week_sales * (1.02** weeks[:,np.newaxis])\n",
    "print('Increased sales :\\n',inc_sales)"
   ]
  }
 ],
 "metadata": {
  "kernelspec": {
   "display_name": "Python 3",
   "language": "python",
   "name": "python3"
  },
  "language_info": {
   "codemirror_mode": {
    "name": "ipython",
    "version": 3
   },
   "file_extension": ".py",
   "mimetype": "text/x-python",
   "name": "python",
   "nbconvert_exporter": "python",
   "pygments_lexer": "ipython3",
   "version": "3.11.9"
  }
 },
 "nbformat": 4,
 "nbformat_minor": 2
}
