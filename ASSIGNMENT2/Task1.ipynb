{
 "cells": [
  {
   "cell_type": "code",
   "execution_count": 6,
   "metadata": {},
   "outputs": [
    {
     "name": "stdout",
     "output_type": "stream",
     "text": [
      "[10, 20, 30, 40, 50, 60, 70, 80, 90, 200, 300]\n"
     ]
    }
   ],
   "source": [
    "##Task1\n",
    "\n",
    "List1 = [10,20,30,40,50,60,70,80,90]\n",
    "List1.extend([200,300])\n",
    "print(List1)"
   ]
  },
  {
   "cell_type": "code",
   "execution_count": 8,
   "metadata": {},
   "outputs": [
    {
     "name": "stdout",
     "output_type": "stream",
     "text": [
      "[20, 40, 50, 60, 70, 80, 90, 200, 300]\n"
     ]
    }
   ],
   "source": [
    "List1.remove(10)\n",
    "List1.remove(30)\n",
    "print(List1)"
   ]
  },
  {
   "cell_type": "code",
   "execution_count": 9,
   "metadata": {},
   "outputs": [
    {
     "name": "stdout",
     "output_type": "stream",
     "text": [
      "[20, 40, 50, 60, 70, 80, 90, 200, 300]\n",
      "[300, 200, 90, 80, 70, 60, 50, 40, 20]\n"
     ]
    }
   ],
   "source": [
    "List1.sort()  ##Ascending order\n",
    "print(List1)\n",
    "\n",
    "List1.sort(reverse = True)  ##descending order\n",
    "print(List1)"
   ]
  }
 ],
 "metadata": {
  "kernelspec": {
   "display_name": "Python 3",
   "language": "python",
   "name": "python3"
  },
  "language_info": {
   "codemirror_mode": {
    "name": "ipython",
    "version": 3
   },
   "file_extension": ".py",
   "mimetype": "text/x-python",
   "name": "python",
   "nbconvert_exporter": "python",
   "pygments_lexer": "ipython3",
   "version": "3.11.9"
  }
 },
 "nbformat": 4,
 "nbformat_minor": 2
}
