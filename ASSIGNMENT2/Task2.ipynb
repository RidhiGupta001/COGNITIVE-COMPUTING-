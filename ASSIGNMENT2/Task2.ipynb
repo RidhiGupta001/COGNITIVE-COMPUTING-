{
 "cells": [
  {
   "cell_type": "code",
   "execution_count": 2,
   "metadata": {},
   "outputs": [
    {
     "name": "stdout",
     "output_type": "stream",
     "text": [
      "maximum marks = \n",
      "92\n",
      "max index = \n",
      "5\n"
     ]
    }
   ],
   "source": [
    "##Task2\n",
    "\n",
    "marks = (45, 89.5, 76, 45.4, 89, 92, 58, 45)\n",
    "print(\"maximum marks = \")\n",
    "print(max(marks))\n",
    "print(\"max index = \")\n",
    "print(marks.index(max(marks)))"
   ]
  },
  {
   "cell_type": "code",
   "execution_count": 5,
   "metadata": {},
   "outputs": [
    {
     "name": "stdout",
     "output_type": "stream",
     "text": [
      "Minimum score = \n",
      "45\n",
      "minimum marks appear =  2 times\n"
     ]
    }
   ],
   "source": [
    "print(\"Minimum score = \")\n",
    "print(min(marks))\n",
    "count = marks.count(min(marks))\n",
    "print(\"minimum marks appear = \",count, \"times\")"
   ]
  },
  {
   "cell_type": "code",
   "execution_count": 6,
   "metadata": {},
   "outputs": [
    {
     "name": "stdout",
     "output_type": "stream",
     "text": [
      "[45, 58, 92, 89, 45.4, 76, 89.5, 45]\n"
     ]
    }
   ],
   "source": [
    "list_marks = list(marks)\n",
    "##Reverse a list \n",
    "list_marks.reverse()\n",
    "print(list_marks)"
   ]
  },
  {
   "cell_type": "code",
   "execution_count": 9,
   "metadata": {},
   "outputs": [
    {
     "name": "stdout",
     "output_type": "stream",
     "text": [
      "76 present in the tuple at index  2\n"
     ]
    }
   ],
   "source": [
    "element = int(input((\"Kindly enter the element you'd like to search\")))\n",
    "if element in marks :\n",
    "    print(element, \"present in the tuple at index \", marks.index(element))\n",
    "else:\n",
    "    print(\"element not present\")"
   ]
  }
 ],
 "metadata": {
  "kernelspec": {
   "display_name": "Python 3",
   "language": "python",
   "name": "python3"
  },
  "language_info": {
   "codemirror_mode": {
    "name": "ipython",
    "version": 3
   },
   "file_extension": ".py",
   "mimetype": "text/x-python",
   "name": "python",
   "nbconvert_exporter": "python",
   "pygments_lexer": "ipython3",
   "version": "3.11.9"
  }
 },
 "nbformat": 4,
 "nbformat_minor": 2
}
