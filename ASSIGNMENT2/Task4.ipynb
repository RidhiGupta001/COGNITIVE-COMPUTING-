{
 "cells": [
  {
   "cell_type": "code",
   "execution_count": 3,
   "metadata": {},
   "outputs": [
    {
     "name": "stdout",
     "output_type": "stream",
     "text": [
      "Unique scores scored by teams =  {34, 45, 78, 23, 56, 90}\n"
     ]
    }
   ],
   "source": [
    "score_A = {34, 56, 78, 90}\n",
    "score_B = {78, 45, 90, 23}\n",
    "\n",
    "print(\"Unique scores scored by teams = \",score_A.union(score_B))"
   ]
  },
  {
   "cell_type": "code",
   "execution_count": 4,
   "metadata": {},
   "outputs": [
    {
     "name": "stdout",
     "output_type": "stream",
     "text": [
      "Scores common to both the teams =  {90, 78}\n"
     ]
    }
   ],
   "source": [
    "print(\"Scores common to both the teams = \",score_A.intersection(score_B))"
   ]
  },
  {
   "cell_type": "code",
   "execution_count": 6,
   "metadata": {},
   "outputs": [
    {
     "name": "stdout",
     "output_type": "stream",
     "text": [
      "Exclusive scores scored by teams {34, 45, 23, 56}\n"
     ]
    }
   ],
   "source": [
    "print(\"Exclusive scores scored by teams\", score_A.symmetric_difference(score_B))"
   ]
  },
  {
   "cell_type": "code",
   "execution_count": null,
   "metadata": {},
   "outputs": [],
   "source": []
  }
 ],
 "metadata": {
  "kernelspec": {
   "display_name": "Python 3",
   "language": "python",
   "name": "python3"
  },
  "language_info": {
   "codemirror_mode": {
    "name": "ipython",
    "version": 3
   },
   "file_extension": ".py",
   "mimetype": "text/x-python",
   "name": "python",
   "nbconvert_exporter": "python",
   "pygments_lexer": "ipython3",
   "version": "3.11.9"
  }
 },
 "nbformat": 4,
 "nbformat_minor": 2
}
