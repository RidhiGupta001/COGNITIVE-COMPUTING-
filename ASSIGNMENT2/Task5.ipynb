{
 "cells": [
  {
   "cell_type": "code",
   "execution_count": 3,
   "metadata": {},
   "outputs": [
    {
     "name": "stdout",
     "output_type": "stream",
     "text": [
      "{'Name': 'Greg Heffley', 'Age': '13', 'City': 'New York'}\n"
     ]
    }
   ],
   "source": [
    "##Task5\n",
    "\n",
    "Customer_info = {\"Name\":\"Greg Heffley\",\n",
    "                 \"Age\": \"13\",\n",
    "                 \"city\":\"New York\"}\n",
    "\n",
    "print(Customer_info)"
   ]
  },
  {
   "cell_type": "code",
   "execution_count": 9,
   "metadata": {},
   "outputs": [
    {
     "name": "stdout",
     "output_type": "stream",
     "text": [
      "{'Name': 'Greg Heffley', 'Age': '13', 'location': 'New York'}\n"
     ]
    }
   ],
   "source": [
    "if \"city\" in Customer_info:\n",
    "    Customer_info[\"location\"] = Customer_info.pop(\"city\")\n",
    "print(Customer_info)"
   ]
  }
 ],
 "metadata": {
  "kernelspec": {
   "display_name": "Python 3",
   "language": "python",
   "name": "python3"
  },
  "language_info": {
   "codemirror_mode": {
    "name": "ipython",
    "version": 3
   },
   "file_extension": ".py",
   "mimetype": "text/x-python",
   "name": "python",
   "nbconvert_exporter": "python",
   "pygments_lexer": "ipython3",
   "version": "3.11.9"
  }
 },
 "nbformat": 4,
 "nbformat_minor": 2
}
