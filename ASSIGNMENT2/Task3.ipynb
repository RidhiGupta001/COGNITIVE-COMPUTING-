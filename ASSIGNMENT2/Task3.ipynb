{
 "cells": [
  {
   "cell_type": "code",
   "execution_count": 3,
   "metadata": {},
   "outputs": [
    {
     "name": "stdout",
     "output_type": "stream",
     "text": [
      "[709, 268, 528, 316, 134, 116, 133, 578, 876, 519, 326, 265, 397, 837, 783, 419, 509, 412, 388, 399, 682, 410, 816, 587, 379, 488, 409, 848, 467, 867, 339, 714, 575, 661, 478, 765, 864, 713, 826, 289, 652, 719, 421, 686, 437, 774, 641, 438, 819, 313, 701, 667, 224, 156, 355, 324, 735, 727, 121, 311, 718, 836, 198, 726, 160, 323, 510, 598, 208, 588, 446, 329, 131, 787, 335, 606, 360, 452, 505, 128, 590, 223, 761, 777, 593, 561, 569, 577, 884, 240, 481, 465, 673, 280, 389, 408, 454, 534, 655, 860]\n"
     ]
    }
   ],
   "source": [
    "##Task3\n",
    "import random\n",
    "list1 = random.sample(range(100,900),100)\n",
    "print(list1)"
   ]
  },
  {
   "cell_type": "code",
   "execution_count": 4,
   "metadata": {},
   "outputs": [
    {
     "name": "stdout",
     "output_type": "stream",
     "text": [
      "even numbers =  48\n",
      "odd numbers =  52\n"
     ]
    }
   ],
   "source": [
    "count_even = 0\n",
    "count_odd = 0\n",
    "for i in list1:\n",
    "    \n",
    "    if i%2 == 0:\n",
    "        count_even = count_even + 1\n",
    "    else:\n",
    "        count_odd = count_odd + 1\n",
    "\n",
    "print(\"even numbers = \",count_even)\n",
    "print(\"odd numbers = \",count_odd)"
   ]
  },
  {
   "cell_type": "code",
   "execution_count": 6,
   "metadata": {},
   "outputs": [
    {
     "name": "stdout",
     "output_type": "stream",
     "text": [
      "number of prime numbers =  25\n"
     ]
    }
   ],
   "source": [
    "count_prime = 0\n",
    "for i in list1:\n",
    "    count = 0\n",
    "    for j in range(2,i):\n",
    "        if i%j == 0:\n",
    "            count = count + 1\n",
    "    if count == 0:\n",
    "        count_prime = count_prime + 1\n",
    "\n",
    "print(\"number of prime numbers = \",count_prime )\n"
   ]
  }
 ],
 "metadata": {
  "kernelspec": {
   "display_name": "Python 3",
   "language": "python",
   "name": "python3"
  },
  "language_info": {
   "codemirror_mode": {
    "name": "ipython",
    "version": 3
   },
   "file_extension": ".py",
   "mimetype": "text/x-python",
   "name": "python",
   "nbconvert_exporter": "python",
   "pygments_lexer": "ipython3",
   "version": "3.11.9"
  }
 },
 "nbformat": 4,
 "nbformat_minor": 2
}
